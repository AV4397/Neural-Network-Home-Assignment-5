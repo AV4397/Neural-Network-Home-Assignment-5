{
  "nbformat": 4,
  "nbformat_minor": 0,
  "metadata": {
    "colab": {
      "provenance": []
    },
    "kernelspec": {
      "name": "python3",
      "display_name": "Python 3"
    },
    "language_info": {
      "name": "python"
    }
  },
  "cells": [
    {
      "cell_type": "code",
      "execution_count": 1,
      "metadata": {
        "colab": {
          "base_uri": "https://localhost:8080/",
          "height": 576
        },
        "id": "hqhjOga8SpnD",
        "outputId": "e4273bfd-09bd-448c-cb46-00c0789c0791"
      },
      "outputs": [
        {
          "output_type": "stream",
          "name": "stderr",
          "text": [
            "100%|██████████| 9.91M/9.91M [00:00<00:00, 56.8MB/s]\n",
            "100%|██████████| 28.9k/28.9k [00:00<00:00, 1.68MB/s]\n",
            "100%|██████████| 1.65M/1.65M [00:00<00:00, 15.0MB/s]\n",
            "100%|██████████| 4.54k/4.54k [00:00<00:00, 4.83MB/s]\n"
          ]
        },
        {
          "output_type": "display_data",
          "data": {
            "text/plain": [
              "<Figure size 800x500 with 1 Axes>"
            ],
            "image/png": "[encoded data removed]"
          },
          "metadata": {}
        }
      ],
      "source": [
        "\n",
        "\n",
        "import torch\n",
        "import torch.nn as nn\n",
        "import torch.optim as optim\n",
        "from torchvision import datasets, transforms, utils\n",
        "import matplotlib.pyplot as plt\n",
        "import os\n",
        "\n",
        "# 1. Hyperparameters\n",
        "batch_size = 128\n",
        "lr = 2e-4\n",
        "nz = 100       # latent dim\n",
        "num_epochs = 100\n",
        "sample_dir = 'samples'\n",
        "os.makedirs(sample_dir, exist_ok=True)\n",
        "\n",
        "# 2. Data loader\n",
        "transform = transforms.Compose([\n",
        "    transforms.ToTensor(),\n",
        "    transforms.Normalize((0.5,), (0.5,))\n",
        "])\n",
        "mnist = datasets.MNIST(root='data', train=True, download=True, transform=transform)\n",
        "loader = torch.utils.data.DataLoader(mnist, batch_size=batch_size, shuffle=True)\n",
        "\n",
        "# 3. Generator\n",
        "class Generator(nn.Module):\n",
        "    def __init__(self):\n",
        "        super().__init__()\n",
        "        self.net = nn.Sequential(\n",
        "            nn.Linear(nz, 256),\n",
        "            nn.ReLU(True),\n",
        "            nn.Linear(256, 512),\n",
        "            nn.ReLU(True),\n",
        "            nn.Linear(512, 1024),\n",
        "            nn.ReLU(True),\n",
        "            nn.Linear(1024, 28*28),\n",
        "            nn.Tanh()\n",
        "        )\n",
        "    def forward(self, z):\n",
        "        out = self.net(z)\n",
        "        return out.view(-1, 1, 28, 28)\n",
        "\n",
        "# 4. Discriminator\n",
        "class Discriminator(nn.Module):\n",
        "    def __init__(self):\n",
        "        super().__init__()\n",
        "        self.net = nn.Sequential(\n",
        "            nn.Flatten(),\n",
        "            nn.Linear(28*28, 512),\n",
        "            nn.LeakyReLU(0.2, inplace=True),\n",
        "            nn.Linear(512, 256),\n",
        "            nn.LeakyReLU(0.2, inplace=True),\n",
        "            nn.Linear(256, 1),\n",
        "            nn.Sigmoid()\n",
        "        )\n",
        "    def forward(self, x):\n",
        "        return self.net(x)\n",
        "\n",
        "# 5. Initialize\n",
        "device = torch.device('cuda' if torch.cuda.is_available() else 'cpu')\n",
        "G = Generator().to(device)\n",
        "D = Discriminator().to(device)\n",
        "criterion = nn.BCELoss()\n",
        "optG = optim.Adam(G.parameters(), lr=lr, betas=(0.5, 0.999))\n",
        "optD = optim.Adam(D.parameters(), lr=lr, betas=(0.5, 0.999))\n",
        "\n",
        "fixed_noise = torch.randn(64, nz, device=device)\n",
        "g_losses, d_losses = [], []\n",
        "\n",
        "# 6. Training loop\n",
        "for epoch in range(num_epochs+1):\n",
        "    for real, _ in loader:\n",
        "        bs = real.size(0)\n",
        "        real = real.to(device)\n",
        "        # Labels\n",
        "        real_labels = torch.ones(bs, 1, device=device)\n",
        "        fake_labels = torch.zeros(bs, 1, device=device)\n",
        "\n",
        "        # Train Discriminator\n",
        "        z = torch.randn(bs, nz, device=device)\n",
        "        fake = G(z)\n",
        "        D_real = D(real)\n",
        "        D_fake = D(fake.detach())\n",
        "        lossD = criterion(D_real, real_labels) + criterion(D_fake, fake_labels)\n",
        "        optD.zero_grad(); lossD.backward(); optD.step()\n",
        "\n",
        "        # Train Generator\n",
        "        D_fake2 = D(fake)\n",
        "        lossG = criterion(D_fake2, real_labels)\n",
        "        optG.zero_grad(); lossG.backward(); optG.step()\n",
        "\n",
        "        g_losses.append(lossG.item())\n",
        "        d_losses.append(lossD.item())\n",
        "\n",
        "    # Save sample images at specified epochs\n",
        "    if epoch in [0, 50, 100]:\n",
        "        with torch.no_grad():\n",
        "            samples = G(fixed_noise).cpu()\n",
        "            grid = utils.make_grid(samples, nrow=8, normalize=True)\n",
        "            utils.save_image(grid, f'{sample_dir}/epoch_{epoch}.png')\n",
        "\n",
        "# 7. Plot losses\n",
        "plt.figure(figsize=(8,5))\n",
        "plt.plot(g_losses, label='G loss')\n",
        "plt.plot(d_losses, label='D loss')\n",
        "plt.xlabel('Iteration')\n",
        "plt.ylabel('Loss')\n",
        "plt.legend()\n",
        "plt.tight_layout()\n",
        "plt.savefig('loss_curve.png')\n",
        "plt.show()\n"
      ]
    }
  ]
}